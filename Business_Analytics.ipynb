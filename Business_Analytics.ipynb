{
 "cells": [
  {
   "cell_type": "markdown",
   "id": "11b2e526-b48a-4558-90ce-23bfbb7cde7d",
   "metadata": {},
   "source": [
    "# Business Analytics Explanations and Examples\n",
    "This notebook will provide various business analytics techniques and methods alongside a thorough, concise, and detailed explanation of them."
   ]
  },
  {
   "cell_type": "markdown",
   "id": "aa36a1ae-981d-4dd2-8bea-d114ee8e3a19",
   "metadata": {},
   "source": [
    "## Hypothesis Testing\n",
    "Hypothesis testing is a way to quantitative determine if a measured variable in an experiment or study meets or does not meet a specific value. \n",
    "\n",
    "The null hypothesis ($H_0$) is the theoretical conclusion to the experiment or study such that the outcome will not be favourable to what we want to show. For example, if we're measuring the mean of water levels in meters and we expect the mean the water level to be different from 5m, the null hypothesis is that the mean still remains to be 5 after the experiment finishes. \n",
    "$$ H_0: \\bar{x} = 5 $$\n",
    "\n",
    "\n",
    "The alternative hypothesis ($H_A$) is the teoretical conclusion to the experiment that the outcome will be favourable. For example, the alternative hypothesis is the potential outcome that the mean water level does meet the target, or that $\\bar{x}$ changes from 5m to something other than 5m.\n",
    "$$ H_A: \\bar{x} \\ne 5 $$"
   ]
  },
  {
   "cell_type": "markdown",
   "id": "e500810d-da51-4f1f-b2a4-90368da0ea40",
   "metadata": {},
   "source": [
    "## Confidence Level\n",
    "The confidence level is the percentage of certainty that the measured variable's  value is correct given that we do the same experiment repeatedly. If the confidence level is set to 0.95, then we say that 95% of the time, the measured variable should be correct."
   ]
  },
  {
   "cell_type": "markdown",
   "id": "47ccc436-5dcf-4524-b113-77dc4f3a801a",
   "metadata": {},
   "source": [
    "## P-value\n",
    "The p-value is a percentage that a result of a study happened by chance or sheer coincidence. If the p-value is 0.05, there's a 5% chance that the result from the study happened by sheer coincidence.\n",
    "\n",
    "The p-value gives a light on hypothesis testing such that, smaller p-values imply greater evidence towards rejecting the null hypothesis. \n",
    "\n",
    "Below is a Python function to interpret p-values."
   ]
  },
  {
   "cell_type": "code",
   "execution_count": 2,
   "id": "797be45f-faab-4a9e-a018-9947f2789495",
   "metadata": {},
   "outputs": [],
   "source": [
    "def interpret_p_value(p, threshold):\n",
    "    \"\"\"\n",
    "    This function will interpret the given p-value `p`. If `p` is \n",
    "    greater than the `threshold`, the null hypothesis is not \n",
    "    rejected. Otherwise, the null hypothesis is rejected. \n",
    "    The decision of rejection is then printed. \n",
    "    \"\"\"\n",
    "    if p < threshold: \n",
    "        print(f\"Recommend rejecting the null hypothesis as the p-value is less than {threshold}\")\n",
    "    else:\n",
    "        print(f\"Recommend not rejecting the null hypothesis as the p-value is not less than {threshold}\")"
   ]
  },
  {
   "cell_type": "code",
   "execution_count": null,
   "id": "ad0ee68a-8161-41f2-bf52-b65f42b817d2",
   "metadata": {},
   "outputs": [],
   "source": []
  }
 ],
 "metadata": {
  "kernelspec": {
   "display_name": "Python 3 (ipykernel)",
   "language": "python",
   "name": "python3"
  },
  "language_info": {
   "codemirror_mode": {
    "name": "ipython",
    "version": 3
   },
   "file_extension": ".py",
   "mimetype": "text/x-python",
   "name": "python",
   "nbconvert_exporter": "python",
   "pygments_lexer": "ipython3",
   "version": "3.11.7"
  }
 },
 "nbformat": 4,
 "nbformat_minor": 5
}
