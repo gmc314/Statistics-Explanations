{
 "cells": [
  {
   "cell_type": "markdown",
   "id": "11b2e526-b48a-4558-90ce-23bfbb7cde7d",
   "metadata": {},
   "source": [
    "# Business Analytics Explanations and Examples\n",
    "This notebook will provide various business analytics techniques and methods alongside a thorough, concise, and detailed explanation of them."
   ]
  },
  {
   "cell_type": "markdown",
   "id": "aa36a1ae-981d-4dd2-8bea-d114ee8e3a19",
   "metadata": {},
   "source": [
    "## Hypothesis Testing\n",
    "Hypothesis testing is a way to quantitative determine if a measured variable in an experiment or study meets or does not meet a specific value. \n",
    "\n",
    "The null hypothesis ($H_0$) is the theoretical conclusion to the experiment or study such that the outcome will not be favourable to what we want to show. For example, if we're measuring the mean of water levels in meters and we expect the mean the water level to be different from 5m, the null hypothesis is that the mean still remains to be 5 after the experiment finishes. \n",
    "$$ H_0: \\bar{x} = 5 $$\n",
    "\n",
    "\n",
    "The alternative hypothesis ($H_A$) is the teoretical conclusion to the experiment that the outcome will be favourable. For example, the alternative hypothesis is the potential outcome that the mean water level does meet the target, or that $\\bar{x}$ changes from 5m to something other than 5m.\n",
    "$$ H_A: \\bar{x} \\ne 5 $$"
   ]
  }
 ],
 "metadata": {
  "kernelspec": {
   "display_name": "Python 3 (ipykernel)",
   "language": "python",
   "name": "python3"
  },
  "language_info": {
   "codemirror_mode": {
    "name": "ipython",
    "version": 3
   },
   "file_extension": ".py",
   "mimetype": "text/x-python",
   "name": "python",
   "nbconvert_exporter": "python",
   "pygments_lexer": "ipython3",
   "version": "3.11.7"
  }
 },
 "nbformat": 4,
 "nbformat_minor": 5
}
