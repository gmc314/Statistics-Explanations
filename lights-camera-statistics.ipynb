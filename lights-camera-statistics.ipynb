{
 "cells": [
  {
   "cell_type": "markdown",
   "metadata": {},
   "source": [
    "# IMDB Movie Analysis\n",
    "This project will analyze the IMDB movie dataset from ZTM's provided csv file.\n",
    "The goals of the project are:\n",
    "1. Clean and preprocess the data.\n",
    "2. Determine relationship between genre and movie rating.\n",
    "3. Analyze factors that contribute to box office success.\n",
    "4. Predict ratings of movies via confidence intervals.\n",
    "5. Write up a conclusion that will highlight key insights learned."
   ]
  },
  {
   "cell_type": "markdown",
   "metadata": {},
   "source": [
    "Importing libraries"
   ]
  },
  {
   "cell_type": "code",
   "execution_count": 237,
   "metadata": {},
   "outputs": [],
   "source": [
    "import pandas as pd\n",
    "import numpy as np\n",
    "import matplotlib.pyplot as plt\n",
    "import seaborn as sns\n",
    "import scipy.stats as st"
   ]
  },
  {
   "cell_type": "code",
   "execution_count": 238,
   "metadata": {},
   "outputs": [
    {
     "data": {
      "text/html": [
       "<div>\n",
       "<style scoped>\n",
       "    .dataframe tbody tr th:only-of-type {\n",
       "        vertical-align: middle;\n",
       "    }\n",
       "\n",
       "    .dataframe tbody tr th {\n",
       "        vertical-align: top;\n",
       "    }\n",
       "\n",
       "    .dataframe thead th {\n",
       "        text-align: right;\n",
       "    }\n",
       "</style>\n",
       "<table border=\"1\" class=\"dataframe\">\n",
       "  <thead>\n",
       "    <tr style=\"text-align: right;\">\n",
       "      <th></th>\n",
       "      <th>Poster_Link</th>\n",
       "      <th>Series_Title</th>\n",
       "      <th>Released_Year</th>\n",
       "      <th>Certificate</th>\n",
       "      <th>Runtime</th>\n",
       "      <th>Genre</th>\n",
       "      <th>IMDB_Rating</th>\n",
       "      <th>Overview</th>\n",
       "      <th>Meta_score</th>\n",
       "      <th>Director</th>\n",
       "      <th>Star1</th>\n",
       "      <th>Star2</th>\n",
       "      <th>Star3</th>\n",
       "      <th>Star4</th>\n",
       "      <th>No_of_Votes</th>\n",
       "      <th>Gross</th>\n",
       "    </tr>\n",
       "  </thead>\n",
       "  <tbody>\n",
       "    <tr>\n",
       "      <th>0</th>\n",
       "      <td>https://m.media-amazon.com/images/M/MV5BMDFkYT...</td>\n",
       "      <td>The Shawshank Redemption</td>\n",
       "      <td>1994</td>\n",
       "      <td>A</td>\n",
       "      <td>142 min</td>\n",
       "      <td>Drama</td>\n",
       "      <td>9.3</td>\n",
       "      <td>Two imprisoned men bond over a number of years...</td>\n",
       "      <td>80.0</td>\n",
       "      <td>Frank Darabont</td>\n",
       "      <td>Tim Robbins</td>\n",
       "      <td>Morgan Freeman</td>\n",
       "      <td>Bob Gunton</td>\n",
       "      <td>William Sadler</td>\n",
       "      <td>2343110</td>\n",
       "      <td>28,341,469</td>\n",
       "    </tr>\n",
       "    <tr>\n",
       "      <th>1</th>\n",
       "      <td>https://m.media-amazon.com/images/M/MV5BM2MyNj...</td>\n",
       "      <td>The Godfather</td>\n",
       "      <td>1972</td>\n",
       "      <td>A</td>\n",
       "      <td>175 min</td>\n",
       "      <td>Crime, Drama</td>\n",
       "      <td>9.2</td>\n",
       "      <td>An organized crime dynasty's aging patriarch t...</td>\n",
       "      <td>100.0</td>\n",
       "      <td>Francis Ford Coppola</td>\n",
       "      <td>Marlon Brando</td>\n",
       "      <td>Al Pacino</td>\n",
       "      <td>James Caan</td>\n",
       "      <td>Diane Keaton</td>\n",
       "      <td>1620367</td>\n",
       "      <td>134,966,411</td>\n",
       "    </tr>\n",
       "  </tbody>\n",
       "</table>\n",
       "</div>"
      ],
      "text/plain": [
       "                                         Poster_Link  \\\n",
       "0  https://m.media-amazon.com/images/M/MV5BMDFkYT...   \n",
       "1  https://m.media-amazon.com/images/M/MV5BM2MyNj...   \n",
       "\n",
       "               Series_Title Released_Year Certificate  Runtime         Genre  \\\n",
       "0  The Shawshank Redemption          1994           A  142 min         Drama   \n",
       "1             The Godfather          1972           A  175 min  Crime, Drama   \n",
       "\n",
       "   IMDB_Rating                                           Overview  Meta_score  \\\n",
       "0          9.3  Two imprisoned men bond over a number of years...        80.0   \n",
       "1          9.2  An organized crime dynasty's aging patriarch t...       100.0   \n",
       "\n",
       "               Director          Star1           Star2       Star3  \\\n",
       "0        Frank Darabont    Tim Robbins  Morgan Freeman  Bob Gunton   \n",
       "1  Francis Ford Coppola  Marlon Brando       Al Pacino  James Caan   \n",
       "\n",
       "            Star4  No_of_Votes        Gross  \n",
       "0  William Sadler      2343110   28,341,469  \n",
       "1    Diane Keaton      1620367  134,966,411  "
      ]
     },
     "execution_count": 238,
     "metadata": {},
     "output_type": "execute_result"
    }
   ],
   "source": [
    "data = pd.read_csv(\"imdb.csv\")\n",
    "data.head(2)"
   ]
  },
  {
   "cell_type": "code",
   "execution_count": 239,
   "metadata": {},
   "outputs": [
    {
     "data": {
      "text/html": [
       "<div>\n",
       "<style scoped>\n",
       "    .dataframe tbody tr th:only-of-type {\n",
       "        vertical-align: middle;\n",
       "    }\n",
       "\n",
       "    .dataframe tbody tr th {\n",
       "        vertical-align: top;\n",
       "    }\n",
       "\n",
       "    .dataframe thead th {\n",
       "        text-align: right;\n",
       "    }\n",
       "</style>\n",
       "<table border=\"1\" class=\"dataframe\">\n",
       "  <thead>\n",
       "    <tr style=\"text-align: right;\">\n",
       "      <th></th>\n",
       "      <th>IMDB_Rating</th>\n",
       "      <th>Meta_score</th>\n",
       "      <th>No_of_Votes</th>\n",
       "    </tr>\n",
       "  </thead>\n",
       "  <tbody>\n",
       "    <tr>\n",
       "      <th>count</th>\n",
       "      <td>1000.000000</td>\n",
       "      <td>843.000000</td>\n",
       "      <td>1.000000e+03</td>\n",
       "    </tr>\n",
       "    <tr>\n",
       "      <th>mean</th>\n",
       "      <td>7.949300</td>\n",
       "      <td>77.971530</td>\n",
       "      <td>2.736929e+05</td>\n",
       "    </tr>\n",
       "    <tr>\n",
       "      <th>std</th>\n",
       "      <td>0.275491</td>\n",
       "      <td>12.376099</td>\n",
       "      <td>3.273727e+05</td>\n",
       "    </tr>\n",
       "    <tr>\n",
       "      <th>min</th>\n",
       "      <td>7.600000</td>\n",
       "      <td>28.000000</td>\n",
       "      <td>2.508800e+04</td>\n",
       "    </tr>\n",
       "    <tr>\n",
       "      <th>25%</th>\n",
       "      <td>7.700000</td>\n",
       "      <td>70.000000</td>\n",
       "      <td>5.552625e+04</td>\n",
       "    </tr>\n",
       "    <tr>\n",
       "      <th>50%</th>\n",
       "      <td>7.900000</td>\n",
       "      <td>79.000000</td>\n",
       "      <td>1.385485e+05</td>\n",
       "    </tr>\n",
       "    <tr>\n",
       "      <th>75%</th>\n",
       "      <td>8.100000</td>\n",
       "      <td>87.000000</td>\n",
       "      <td>3.741612e+05</td>\n",
       "    </tr>\n",
       "    <tr>\n",
       "      <th>max</th>\n",
       "      <td>9.300000</td>\n",
       "      <td>100.000000</td>\n",
       "      <td>2.343110e+06</td>\n",
       "    </tr>\n",
       "  </tbody>\n",
       "</table>\n",
       "</div>"
      ],
      "text/plain": [
       "       IMDB_Rating  Meta_score   No_of_Votes\n",
       "count  1000.000000  843.000000  1.000000e+03\n",
       "mean      7.949300   77.971530  2.736929e+05\n",
       "std       0.275491   12.376099  3.273727e+05\n",
       "min       7.600000   28.000000  2.508800e+04\n",
       "25%       7.700000   70.000000  5.552625e+04\n",
       "50%       7.900000   79.000000  1.385485e+05\n",
       "75%       8.100000   87.000000  3.741612e+05\n",
       "max       9.300000  100.000000  2.343110e+06"
      ]
     },
     "execution_count": 239,
     "metadata": {},
     "output_type": "execute_result"
    }
   ],
   "source": [
    "data.describe()"
   ]
  },
  {
   "cell_type": "code",
   "execution_count": 240,
   "metadata": {},
   "outputs": [
    {
     "name": "stdout",
     "output_type": "stream",
     "text": [
      "<class 'pandas.core.frame.DataFrame'>\n",
      "RangeIndex: 1000 entries, 0 to 999\n",
      "Data columns (total 16 columns):\n",
      " #   Column         Non-Null Count  Dtype  \n",
      "---  ------         --------------  -----  \n",
      " 0   Poster_Link    1000 non-null   object \n",
      " 1   Series_Title   1000 non-null   object \n",
      " 2   Released_Year  1000 non-null   object \n",
      " 3   Certificate    899 non-null    object \n",
      " 4   Runtime        1000 non-null   object \n",
      " 5   Genre          1000 non-null   object \n",
      " 6   IMDB_Rating    1000 non-null   float64\n",
      " 7   Overview       1000 non-null   object \n",
      " 8   Meta_score     843 non-null    float64\n",
      " 9   Director       1000 non-null   object \n",
      " 10  Star1          1000 non-null   object \n",
      " 11  Star2          1000 non-null   object \n",
      " 12  Star3          1000 non-null   object \n",
      " 13  Star4          1000 non-null   object \n",
      " 14  No_of_Votes    1000 non-null   int64  \n",
      " 15  Gross          831 non-null    object \n",
      "dtypes: float64(2), int64(1), object(13)\n",
      "memory usage: 125.1+ KB\n"
     ]
    }
   ],
   "source": [
    "data.info()"
   ]
  },
  {
   "cell_type": "code",
   "execution_count": 241,
   "metadata": {},
   "outputs": [
    {
     "data": {
      "text/html": [
       "<div>\n",
       "<style scoped>\n",
       "    .dataframe tbody tr th:only-of-type {\n",
       "        vertical-align: middle;\n",
       "    }\n",
       "\n",
       "    .dataframe tbody tr th {\n",
       "        vertical-align: top;\n",
       "    }\n",
       "\n",
       "    .dataframe thead th {\n",
       "        text-align: right;\n",
       "    }\n",
       "</style>\n",
       "<table border=\"1\" class=\"dataframe\">\n",
       "  <thead>\n",
       "    <tr style=\"text-align: right;\">\n",
       "      <th></th>\n",
       "      <th>Series_Title</th>\n",
       "      <th>Director</th>\n",
       "      <th>Genre</th>\n",
       "      <th>IMDB_Rating</th>\n",
       "      <th>Released_Year</th>\n",
       "      <th>Gross</th>\n",
       "      <th>Runtime</th>\n",
       "      <th>Meta_score</th>\n",
       "    </tr>\n",
       "  </thead>\n",
       "  <tbody>\n",
       "    <tr>\n",
       "      <th>0</th>\n",
       "      <td>The Shawshank Redemption</td>\n",
       "      <td>Frank Darabont</td>\n",
       "      <td>Drama</td>\n",
       "      <td>9.3</td>\n",
       "      <td>1994</td>\n",
       "      <td>28,341,469</td>\n",
       "      <td>142 min</td>\n",
       "      <td>80.0</td>\n",
       "    </tr>\n",
       "    <tr>\n",
       "      <th>1</th>\n",
       "      <td>The Godfather</td>\n",
       "      <td>Francis Ford Coppola</td>\n",
       "      <td>Crime, Drama</td>\n",
       "      <td>9.2</td>\n",
       "      <td>1972</td>\n",
       "      <td>134,966,411</td>\n",
       "      <td>175 min</td>\n",
       "      <td>100.0</td>\n",
       "    </tr>\n",
       "    <tr>\n",
       "      <th>2</th>\n",
       "      <td>The Dark Knight</td>\n",
       "      <td>Christopher Nolan</td>\n",
       "      <td>Action, Crime, Drama</td>\n",
       "      <td>9.0</td>\n",
       "      <td>2008</td>\n",
       "      <td>534,858,444</td>\n",
       "      <td>152 min</td>\n",
       "      <td>84.0</td>\n",
       "    </tr>\n",
       "    <tr>\n",
       "      <th>3</th>\n",
       "      <td>The Godfather: Part II</td>\n",
       "      <td>Francis Ford Coppola</td>\n",
       "      <td>Crime, Drama</td>\n",
       "      <td>9.0</td>\n",
       "      <td>1974</td>\n",
       "      <td>57,300,000</td>\n",
       "      <td>202 min</td>\n",
       "      <td>90.0</td>\n",
       "    </tr>\n",
       "    <tr>\n",
       "      <th>4</th>\n",
       "      <td>12 Angry Men</td>\n",
       "      <td>Sidney Lumet</td>\n",
       "      <td>Crime, Drama</td>\n",
       "      <td>9.0</td>\n",
       "      <td>1957</td>\n",
       "      <td>4,360,000</td>\n",
       "      <td>96 min</td>\n",
       "      <td>96.0</td>\n",
       "    </tr>\n",
       "  </tbody>\n",
       "</table>\n",
       "</div>"
      ],
      "text/plain": [
       "               Series_Title              Director                 Genre  \\\n",
       "0  The Shawshank Redemption        Frank Darabont                 Drama   \n",
       "1             The Godfather  Francis Ford Coppola          Crime, Drama   \n",
       "2           The Dark Knight     Christopher Nolan  Action, Crime, Drama   \n",
       "3    The Godfather: Part II  Francis Ford Coppola          Crime, Drama   \n",
       "4              12 Angry Men          Sidney Lumet          Crime, Drama   \n",
       "\n",
       "   IMDB_Rating Released_Year        Gross  Runtime  Meta_score  \n",
       "0          9.3          1994   28,341,469  142 min        80.0  \n",
       "1          9.2          1972  134,966,411  175 min       100.0  \n",
       "2          9.0          2008  534,858,444  152 min        84.0  \n",
       "3          9.0          1974   57,300,000  202 min        90.0  \n",
       "4          9.0          1957    4,360,000   96 min        96.0  "
      ]
     },
     "execution_count": 241,
     "metadata": {},
     "output_type": "execute_result"
    }
   ],
   "source": [
    "df = data[[\"Series_Title\" ,\"Director\", \"Genre\", \"IMDB_Rating\", \"Released_Year\", \"Gross\", \"Runtime\", \"Meta_score\"]]\n",
    "df.head()"
   ]
  },
  {
   "cell_type": "code",
   "execution_count": 242,
   "metadata": {},
   "outputs": [
    {
     "name": "stdout",
     "output_type": "stream",
     "text": [
      "<class 'pandas.core.frame.DataFrame'>\n",
      "RangeIndex: 1000 entries, 0 to 999\n",
      "Data columns (total 8 columns):\n",
      " #   Column         Non-Null Count  Dtype  \n",
      "---  ------         --------------  -----  \n",
      " 0   Series_Title   1000 non-null   object \n",
      " 1   Director       1000 non-null   object \n",
      " 2   Genre          1000 non-null   object \n",
      " 3   IMDB_Rating    1000 non-null   float64\n",
      " 4   Released_Year  1000 non-null   object \n",
      " 5   Gross          831 non-null    object \n",
      " 6   Runtime        1000 non-null   object \n",
      " 7   Meta_score     843 non-null    float64\n",
      "dtypes: float64(2), object(6)\n",
      "memory usage: 62.6+ KB\n"
     ]
    }
   ],
   "source": [
    "df.info()"
   ]
  },
  {
   "cell_type": "code",
   "execution_count": 243,
   "metadata": {},
   "outputs": [
    {
     "name": "stderr",
     "output_type": "stream",
     "text": [
      "C:\\Users\\gemst\\AppData\\Local\\Temp\\ipykernel_14072\\2570722277.py:2: SettingWithCopyWarning: \n",
      "A value is trying to be set on a copy of a slice from a DataFrame.\n",
      "Try using .loc[row_indexer,col_indexer] = value instead\n",
      "\n",
      "See the caveats in the documentation: https://pandas.pydata.org/pandas-docs/stable/user_guide/indexing.html#returning-a-view-versus-a-copy\n",
      "  df[\"Released_Year\"] = pd.to_numeric(df[\"Released_Year\"], errors = \"coerce\")\n"
     ]
    }
   ],
   "source": [
    "# convert Released_Year to number because it's an object/string\n",
    "df[\"Released_Year\"] = pd.to_numeric(df[\"Released_Year\"], errors = \"coerce\")"
   ]
  },
  {
   "cell_type": "code",
   "execution_count": 244,
   "metadata": {},
   "outputs": [
    {
     "data": {
      "text/plain": [
       "Series_Title                     Apollo 13\n",
       "Director                        Ron Howard\n",
       "Genre            Adventure, Drama, History\n",
       "IMDB_Rating                            7.6\n",
       "Released_Year                          NaN\n",
       "Gross                          173,837,933\n",
       "Runtime                            140 min\n",
       "Meta_score                            77.0\n",
       "Name: 966, dtype: object"
      ]
     },
     "execution_count": 244,
     "metadata": {},
     "output_type": "execute_result"
    }
   ],
   "source": [
    "## because we have an error, we check position 966\n",
    "df.iloc[966]\n",
    "## changed to NaN"
   ]
  },
  {
   "cell_type": "code",
   "execution_count": 245,
   "metadata": {},
   "outputs": [
    {
     "name": "stderr",
     "output_type": "stream",
     "text": [
      "C:\\Users\\gemst\\AppData\\Local\\Temp\\ipykernel_14072\\2368321684.py:2: SettingWithCopyWarning: \n",
      "A value is trying to be set on a copy of a slice from a DataFrame.\n",
      "Try using .loc[row_indexer,col_indexer] = value instead\n",
      "\n",
      "See the caveats in the documentation: https://pandas.pydata.org/pandas-docs/stable/user_guide/indexing.html#returning-a-view-versus-a-copy\n",
      "  df[\"Released_Decade\"] = np.floor(df[\"Released_Year\"]/10)*10\n"
     ]
    }
   ],
   "source": [
    "# create a Decade column\n",
    "df[\"Released_Decade\"] = np.floor(df[\"Released_Year\"]/10)*10"
   ]
  },
  {
   "cell_type": "code",
   "execution_count": 246,
   "metadata": {},
   "outputs": [
    {
     "name": "stderr",
     "output_type": "stream",
     "text": [
      "C:\\Users\\gemst\\AppData\\Local\\Temp\\ipykernel_14072\\1064021313.py:2: SettingWithCopyWarning: \n",
      "A value is trying to be set on a copy of a slice from a DataFrame.\n",
      "Try using .loc[row_indexer,col_indexer] = value instead\n",
      "\n",
      "See the caveats in the documentation: https://pandas.pydata.org/pandas-docs/stable/user_guide/indexing.html#returning-a-view-versus-a-copy\n",
      "  df[\"Runtime\"] = df[\"Runtime\"].str.replace(\" min\", \"\").astype(int)\n"
     ]
    }
   ],
   "source": [
    "# Transforming the runtime column from \"x min\" to x as an integer\n",
    "df[\"Runtime\"] = df[\"Runtime\"].str.replace(\" min\", \"\").astype(int)"
   ]
  },
  {
   "cell_type": "code",
   "execution_count": 247,
   "metadata": {},
   "outputs": [
    {
     "name": "stderr",
     "output_type": "stream",
     "text": [
      "C:\\Users\\gemst\\AppData\\Local\\Temp\\ipykernel_14072\\2722753034.py:2: SettingWithCopyWarning: \n",
      "A value is trying to be set on a copy of a slice from a DataFrame.\n",
      "Try using .loc[row_indexer,col_indexer] = value instead\n",
      "\n",
      "See the caveats in the documentation: https://pandas.pydata.org/pandas-docs/stable/user_guide/indexing.html#returning-a-view-versus-a-copy\n",
      "  df[\"Gross\"] = df[\"Gross\"].fillna(\"0\")\n"
     ]
    }
   ],
   "source": [
    "# Since we see some null values in the gross column from df.info(), we now fill the \n",
    "df[\"Gross\"] = df[\"Gross\"].fillna(\"0\")"
   ]
  },
  {
   "cell_type": "code",
   "execution_count": 248,
   "metadata": {},
   "outputs": [
    {
     "name": "stderr",
     "output_type": "stream",
     "text": [
      "C:\\Users\\gemst\\AppData\\Local\\Temp\\ipykernel_14072\\1059538254.py:1: SettingWithCopyWarning: \n",
      "A value is trying to be set on a copy of a slice from a DataFrame.\n",
      "Try using .loc[row_indexer,col_indexer] = value instead\n",
      "\n",
      "See the caveats in the documentation: https://pandas.pydata.org/pandas-docs/stable/user_guide/indexing.html#returning-a-view-versus-a-copy\n",
      "  df[\"Gross\"] = df[\"Gross\"].str.replace(\",\", \"\").astype(int)\n",
      "C:\\Users\\gemst\\AppData\\Local\\Temp\\ipykernel_14072\\1059538254.py:2: SettingWithCopyWarning: \n",
      "A value is trying to be set on a copy of a slice from a DataFrame.\n",
      "Try using .loc[row_indexer,col_indexer] = value instead\n",
      "\n",
      "See the caveats in the documentation: https://pandas.pydata.org/pandas-docs/stable/user_guide/indexing.html#returning-a-view-versus-a-copy\n",
      "  df[\"Gross (millions)\"] = df[\"Gross\"] / 1000000\n"
     ]
    }
   ],
   "source": [
    "df[\"Gross\"] = df[\"Gross\"].str.replace(\",\", \"\").astype(int)\n",
    "df[\"Gross (millions)\"] = df[\"Gross\"] / 1000000"
   ]
  },
  {
   "cell_type": "code",
   "execution_count": 249,
   "metadata": {},
   "outputs": [
    {
     "data": {
      "text/html": [
       "<div>\n",
       "<style scoped>\n",
       "    .dataframe tbody tr th:only-of-type {\n",
       "        vertical-align: middle;\n",
       "    }\n",
       "\n",
       "    .dataframe tbody tr th {\n",
       "        vertical-align: top;\n",
       "    }\n",
       "\n",
       "    .dataframe thead th {\n",
       "        text-align: right;\n",
       "    }\n",
       "</style>\n",
       "<table border=\"1\" class=\"dataframe\">\n",
       "  <thead>\n",
       "    <tr style=\"text-align: right;\">\n",
       "      <th></th>\n",
       "      <th>IMDB_Rating</th>\n",
       "      <th>Released_Year</th>\n",
       "      <th>Gross</th>\n",
       "      <th>Runtime</th>\n",
       "      <th>Meta_score</th>\n",
       "      <th>Released_Decade</th>\n",
       "      <th>Gross (millions)</th>\n",
       "    </tr>\n",
       "  </thead>\n",
       "  <tbody>\n",
       "    <tr>\n",
       "      <th>count</th>\n",
       "      <td>1000.000000</td>\n",
       "      <td>999.000000</td>\n",
       "      <td>1.000000e+03</td>\n",
       "      <td>1000.000000</td>\n",
       "      <td>843.000000</td>\n",
       "      <td>999.000000</td>\n",
       "      <td>1000.000000</td>\n",
       "    </tr>\n",
       "    <tr>\n",
       "      <th>mean</th>\n",
       "      <td>7.949300</td>\n",
       "      <td>1991.217217</td>\n",
       "      <td>5.653688e+07</td>\n",
       "      <td>122.891000</td>\n",
       "      <td>77.971530</td>\n",
       "      <td>1986.586587</td>\n",
       "      <td>56.536878</td>\n",
       "    </tr>\n",
       "    <tr>\n",
       "      <th>std</th>\n",
       "      <td>0.275491</td>\n",
       "      <td>23.297025</td>\n",
       "      <td>1.032382e+08</td>\n",
       "      <td>28.093671</td>\n",
       "      <td>12.376099</td>\n",
       "      <td>23.189130</td>\n",
       "      <td>103.238179</td>\n",
       "    </tr>\n",
       "    <tr>\n",
       "      <th>min</th>\n",
       "      <td>7.600000</td>\n",
       "      <td>1920.000000</td>\n",
       "      <td>0.000000e+00</td>\n",
       "      <td>45.000000</td>\n",
       "      <td>28.000000</td>\n",
       "      <td>1920.000000</td>\n",
       "      <td>0.000000</td>\n",
       "    </tr>\n",
       "    <tr>\n",
       "      <th>25%</th>\n",
       "      <td>7.700000</td>\n",
       "      <td>1976.000000</td>\n",
       "      <td>4.457098e+05</td>\n",
       "      <td>103.000000</td>\n",
       "      <td>70.000000</td>\n",
       "      <td>1970.000000</td>\n",
       "      <td>0.445710</td>\n",
       "    </tr>\n",
       "    <tr>\n",
       "      <th>50%</th>\n",
       "      <td>7.900000</td>\n",
       "      <td>1999.000000</td>\n",
       "      <td>1.070275e+07</td>\n",
       "      <td>119.000000</td>\n",
       "      <td>79.000000</td>\n",
       "      <td>1990.000000</td>\n",
       "      <td>10.702751</td>\n",
       "    </tr>\n",
       "    <tr>\n",
       "      <th>75%</th>\n",
       "      <td>8.100000</td>\n",
       "      <td>2009.000000</td>\n",
       "      <td>6.153989e+07</td>\n",
       "      <td>137.000000</td>\n",
       "      <td>87.000000</td>\n",
       "      <td>2000.000000</td>\n",
       "      <td>61.539891</td>\n",
       "    </tr>\n",
       "    <tr>\n",
       "      <th>max</th>\n",
       "      <td>9.300000</td>\n",
       "      <td>2020.000000</td>\n",
       "      <td>9.366622e+08</td>\n",
       "      <td>321.000000</td>\n",
       "      <td>100.000000</td>\n",
       "      <td>2020.000000</td>\n",
       "      <td>936.662225</td>\n",
       "    </tr>\n",
       "  </tbody>\n",
       "</table>\n",
       "</div>"
      ],
      "text/plain": [
       "       IMDB_Rating  Released_Year         Gross      Runtime  Meta_score  \\\n",
       "count  1000.000000     999.000000  1.000000e+03  1000.000000  843.000000   \n",
       "mean      7.949300    1991.217217  5.653688e+07   122.891000   77.971530   \n",
       "std       0.275491      23.297025  1.032382e+08    28.093671   12.376099   \n",
       "min       7.600000    1920.000000  0.000000e+00    45.000000   28.000000   \n",
       "25%       7.700000    1976.000000  4.457098e+05   103.000000   70.000000   \n",
       "50%       7.900000    1999.000000  1.070275e+07   119.000000   79.000000   \n",
       "75%       8.100000    2009.000000  6.153989e+07   137.000000   87.000000   \n",
       "max       9.300000    2020.000000  9.366622e+08   321.000000  100.000000   \n",
       "\n",
       "       Released_Decade  Gross (millions)  \n",
       "count       999.000000       1000.000000  \n",
       "mean       1986.586587         56.536878  \n",
       "std          23.189130        103.238179  \n",
       "min        1920.000000          0.000000  \n",
       "25%        1970.000000          0.445710  \n",
       "50%        1990.000000         10.702751  \n",
       "75%        2000.000000         61.539891  \n",
       "max        2020.000000        936.662225  "
      ]
     },
     "execution_count": 249,
     "metadata": {},
     "output_type": "execute_result"
    }
   ],
   "source": [
    "df.describe()"
   ]
  },
  {
   "cell_type": "code",
   "execution_count": 250,
   "metadata": {},
   "outputs": [
    {
     "data": {
      "image/png": "[encoded data removed]",
      "text/plain": [
       "<Figure size 640x480 with 1 Axes>"
      ]
     },
     "metadata": {},
     "output_type": "display_data"
    }
   ],
   "source": [
    "# Histogram of the ratings \n",
    "sns.histplot(df[\"IMDB_Rating\"], kde=True)\n",
    "plt.title(\"Histogram of IMDB Ratings\");"
   ]
  },
  {
   "cell_type": "code",
   "execution_count": 251,
   "metadata": {},
   "outputs": [
    {
     "data": {
      "image/png": "[encoded data removed]",
      "text/plain": [
       "<Figure size 1000x400 with 1 Axes>"
      ]
     },
     "metadata": {},
     "output_type": "display_data"
    }
   ],
   "source": [
    "# Top directors' average ratings\n",
    "top_director_ratings = (df.groupby([\"Director\"])[\"IMDB_Rating\"]\n",
    "                            .mean()\n",
    "                            .sort_values(ascending = False)\n",
    "                            [:10])\n",
    "plt.figure(figsize=(10,4))\n",
    "sns.barplot(x=top_director_ratings.index, \n",
    "            y=top_director_ratings.values)\n",
    "plt.xticks(rotation = 45)\n",
    "plt.title(\"Top Directors' Average Ratings\")\n",
    "plt.ylabel(\"IMDB Average Rating\");"
   ]
  },
  {
   "cell_type": "code",
   "execution_count": 252,
   "metadata": {},
   "outputs": [
    {
     "data": {
      "image/png": "[encoded data removed]",
      "text/plain": [
       "<Figure size 1000x600 with 1 Axes>"
      ]
     },
     "metadata": {},
     "output_type": "display_data"
    }
   ],
   "source": [
    "# distribution of rating by decade\n",
    "plt.figure(figsize=(10, 6))\n",
    "sns.boxplot(x = \"Released_Decade\",\n",
    "            y = \"IMDB_Rating\",\n",
    "            data = df)\n",
    "plt.title(\"IMDB Rating By Decade\");"
   ]
  },
  {
   "cell_type": "code",
   "execution_count": 253,
   "metadata": {},
   "outputs": [
    {
     "data": {
      "text/html": [
       "<div>\n",
       "<style scoped>\n",
       "    .dataframe tbody tr th:only-of-type {\n",
       "        vertical-align: middle;\n",
       "    }\n",
       "\n",
       "    .dataframe tbody tr th {\n",
       "        vertical-align: top;\n",
       "    }\n",
       "\n",
       "    .dataframe thead th {\n",
       "        text-align: right;\n",
       "    }\n",
       "</style>\n",
       "<table border=\"1\" class=\"dataframe\">\n",
       "  <thead>\n",
       "    <tr style=\"text-align: right;\">\n",
       "      <th></th>\n",
       "      <th>Runtime</th>\n",
       "      <th>IMDB_Rating</th>\n",
       "      <th>Gross (millions)</th>\n",
       "      <th>Meta_score</th>\n",
       "    </tr>\n",
       "  </thead>\n",
       "  <tbody>\n",
       "    <tr>\n",
       "      <th>Runtime</th>\n",
       "      <td>789.254373</td>\n",
       "      <td>1.881455</td>\n",
       "      <td>417.438934</td>\n",
       "      <td>-10.526302</td>\n",
       "    </tr>\n",
       "    <tr>\n",
       "      <th>IMDB_Rating</th>\n",
       "      <td>1.881455</td>\n",
       "      <td>0.075895</td>\n",
       "      <td>2.343023</td>\n",
       "      <td>0.942946</td>\n",
       "    </tr>\n",
       "    <tr>\n",
       "      <th>Gross (millions)</th>\n",
       "      <td>417.438934</td>\n",
       "      <td>2.343023</td>\n",
       "      <td>10658.121703</td>\n",
       "      <td>-72.676259</td>\n",
       "    </tr>\n",
       "    <tr>\n",
       "      <th>Meta_score</th>\n",
       "      <td>-10.526302</td>\n",
       "      <td>0.942946</td>\n",
       "      <td>-72.676259</td>\n",
       "      <td>153.167835</td>\n",
       "    </tr>\n",
       "  </tbody>\n",
       "</table>\n",
       "</div>"
      ],
      "text/plain": [
       "                     Runtime  IMDB_Rating  Gross (millions)  Meta_score\n",
       "Runtime           789.254373     1.881455        417.438934  -10.526302\n",
       "IMDB_Rating         1.881455     0.075895          2.343023    0.942946\n",
       "Gross (millions)  417.438934     2.343023      10658.121703  -72.676259\n",
       "Meta_score        -10.526302     0.942946        -72.676259  153.167835"
      ]
     },
     "execution_count": 253,
     "metadata": {},
     "output_type": "execute_result"
    }
   ],
   "source": [
    "# Covariance matrix\n",
    "df_co = df[[\"Runtime\", \"IMDB_Rating\", \"Gross (millions)\", \"Meta_score\"]]\n",
    "df_co.cov()"
   ]
  },
  {
   "cell_type": "code",
   "execution_count": 254,
   "metadata": {},
   "outputs": [
    {
     "data": {
      "image/png": "[encoded data removed]",
      "text/plain": [
       "<Figure size 800x400 with 2 Axes>"
      ]
     },
     "metadata": {},
     "output_type": "display_data"
    }
   ],
   "source": [
    "# Heatmap \n",
    "plt.figure(figsize=(8, 4))\n",
    "sns.heatmap(df_co.corr(), annot=True, cmap=\"coolwarm\");"
   ]
  },
  {
   "cell_type": "code",
   "execution_count": 255,
   "metadata": {},
   "outputs": [],
   "source": [
    "# mean, standard devivation, and count of Gross per decade\n",
    "gross_by_decade = df.groupby(\"Released_Decade\").agg({\"Gross (millions)\": [\"mean\", \"std\", \"count\"]})\n",
    "gross_by_decade.columns = [\"Gross_mean\", \"Gross_sigma\", \"Gross_count\"]\n",
    "\n",
    "# calculate the standard error of the sample means\n",
    "gross_by_decade[\"standard_error\"] = gross_by_decade[\"Gross_sigma\"] / np.sqrt(gross_by_decade[\"Gross_count\"])"
   ]
  },
  {
   "cell_type": "code",
   "execution_count": 256,
   "metadata": {},
   "outputs": [
    {
     "data": {
      "text/html": [
       "<div>\n",
       "<style scoped>\n",
       "    .dataframe tbody tr th:only-of-type {\n",
       "        vertical-align: middle;\n",
       "    }\n",
       "\n",
       "    .dataframe tbody tr th {\n",
       "        vertical-align: top;\n",
       "    }\n",
       "\n",
       "    .dataframe thead th {\n",
       "        text-align: right;\n",
       "    }\n",
       "</style>\n",
       "<table border=\"1\" class=\"dataframe\">\n",
       "  <thead>\n",
       "    <tr style=\"text-align: right;\">\n",
       "      <th></th>\n",
       "      <th>Gross_mean</th>\n",
       "      <th>Gross_sigma</th>\n",
       "      <th>Gross_count</th>\n",
       "      <th>standard_error</th>\n",
       "      <th>critical_value</th>\n",
       "      <th>CI_lower</th>\n",
       "      <th>CI_upper</th>\n",
       "    </tr>\n",
       "    <tr>\n",
       "      <th>Released_Decade</th>\n",
       "      <th></th>\n",
       "      <th></th>\n",
       "      <th></th>\n",
       "      <th></th>\n",
       "      <th></th>\n",
       "      <th></th>\n",
       "      <th></th>\n",
       "    </tr>\n",
       "  </thead>\n",
       "  <tbody>\n",
       "    <tr>\n",
       "      <th>1920.0</th>\n",
       "      <td>1.341802</td>\n",
       "      <td>2.084388</td>\n",
       "      <td>11</td>\n",
       "      <td>0.628467</td>\n",
       "      <td>2.228139</td>\n",
       "      <td>-0.058509</td>\n",
       "      <td>2.742113</td>\n",
       "    </tr>\n",
       "    <tr>\n",
       "      <th>1930.0</th>\n",
       "      <td>9.968549</td>\n",
       "      <td>40.300467</td>\n",
       "      <td>24</td>\n",
       "      <td>8.226298</td>\n",
       "      <td>2.068658</td>\n",
       "      <td>-7.048845</td>\n",
       "      <td>26.985944</td>\n",
       "    </tr>\n",
       "    <tr>\n",
       "      <th>1940.0</th>\n",
       "      <td>4.739121</td>\n",
       "      <td>13.376285</td>\n",
       "      <td>35</td>\n",
       "      <td>2.261005</td>\n",
       "      <td>2.032245</td>\n",
       "      <td>0.144207</td>\n",
       "      <td>9.334036</td>\n",
       "    </tr>\n",
       "    <tr>\n",
       "      <th>1950.0</th>\n",
       "      <td>7.846706</td>\n",
       "      <td>17.703398</td>\n",
       "      <td>56</td>\n",
       "      <td>2.365716</td>\n",
       "      <td>2.004045</td>\n",
       "      <td>3.105705</td>\n",
       "      <td>12.587706</td>\n",
       "    </tr>\n",
       "    <tr>\n",
       "      <th>1960.0</th>\n",
       "      <td>21.234302</td>\n",
       "      <td>35.304236</td>\n",
       "      <td>73</td>\n",
       "      <td>4.132048</td>\n",
       "      <td>1.993464</td>\n",
       "      <td>12.997214</td>\n",
       "      <td>29.471390</td>\n",
       "    </tr>\n",
       "  </tbody>\n",
       "</table>\n",
       "</div>"
      ],
      "text/plain": [
       "                 Gross_mean  Gross_sigma  Gross_count  standard_error  \\\n",
       "Released_Decade                                                         \n",
       "1920.0             1.341802     2.084388           11        0.628467   \n",
       "1930.0             9.968549    40.300467           24        8.226298   \n",
       "1940.0             4.739121    13.376285           35        2.261005   \n",
       "1950.0             7.846706    17.703398           56        2.365716   \n",
       "1960.0            21.234302    35.304236           73        4.132048   \n",
       "\n",
       "                 critical_value   CI_lower   CI_upper  \n",
       "Released_Decade                                        \n",
       "1920.0                 2.228139  -0.058509   2.742113  \n",
       "1930.0                 2.068658  -7.048845  26.985944  \n",
       "1940.0                 2.032245   0.144207   9.334036  \n",
       "1950.0                 2.004045   3.105705  12.587706  \n",
       "1960.0                 1.993464  12.997214  29.471390  "
      ]
     },
     "execution_count": 256,
     "metadata": {},
     "output_type": "execute_result"
    }
   ],
   "source": [
    "# critical value from t test for confidence interval\n",
    "alpha = 0.05\n",
    "gross_by_decade[\"critical_value\"] = st.t.ppf(1 - alpha /2, gross_by_decade[\"Gross_count\"] - 1)\n",
    "\n",
    "# confidence interval\n",
    "gross_by_decade[\"CI_lower\"] = gross_by_decade[\"Gross_mean\"] - gross_by_decade[\"critical_value\"] * gross_by_decade[\"standard_error\"]\n",
    "gross_by_decade[\"CI_upper\"] = gross_by_decade[\"Gross_mean\"] + gross_by_decade[\"critical_value\"] * gross_by_decade[\"standard_error\"]\n",
    "gross_by_decade.head()"
   ]
  }
 ],
 "metadata": {
  "kernelspec": {
   "display_name": "Python 3",
   "language": "python",
   "name": "python3"
  },
  "language_info": {
   "codemirror_mode": {
    "name": "ipython",
    "version": 3
   },
   "file_extension": ".py",
   "mimetype": "text/x-python",
   "name": "python",
   "nbconvert_exporter": "python",
   "pygments_lexer": "ipython3",
   "version": "3.11.6"
  }
 },
 "nbformat": 4,
 "nbformat_minor": 2
}
